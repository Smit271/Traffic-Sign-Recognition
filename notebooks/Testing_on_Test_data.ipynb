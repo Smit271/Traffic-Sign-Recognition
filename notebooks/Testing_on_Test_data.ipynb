{
 "cells": [
  {
   "cell_type": "code",
   "execution_count": 4,
   "id": "purple-singing",
   "metadata": {},
   "outputs": [],
   "source": [
    "import numpy as np \n",
    "import pandas as pd\n",
    "import matplotlib.pyplot as plt\n",
    "import tensorflow as tf\n",
    "import keras\n",
    "import cv2\n",
    "from PIL import Image\n",
    "from sklearn.model_selection import train_test_split\n",
    "from sklearn.metrics import accuracy_score\n",
    "import time\n",
    "import os\n",
    "import warnings\n",
    "import shutil\n",
    "\n",
    "warnings.filterwarnings(\"ignore\")"
   ]
  },
  {
   "cell_type": "code",
   "execution_count": 5,
   "id": "large-employment",
   "metadata": {},
   "outputs": [
    {
     "data": {
      "text/html": [
       "<div>\n",
       "<style scoped>\n",
       "    .dataframe tbody tr th:only-of-type {\n",
       "        vertical-align: middle;\n",
       "    }\n",
       "\n",
       "    .dataframe tbody tr th {\n",
       "        vertical-align: top;\n",
       "    }\n",
       "\n",
       "    .dataframe thead th {\n",
       "        text-align: right;\n",
       "    }\n",
       "</style>\n",
       "<table border=\"1\" class=\"dataframe\">\n",
       "  <thead>\n",
       "    <tr style=\"text-align: right;\">\n",
       "      <th></th>\n",
       "      <th>Width</th>\n",
       "      <th>Height</th>\n",
       "      <th>Roi.X1</th>\n",
       "      <th>Roi.Y1</th>\n",
       "      <th>Roi.X2</th>\n",
       "      <th>Roi.Y2</th>\n",
       "      <th>ClassId</th>\n",
       "      <th>Path</th>\n",
       "    </tr>\n",
       "  </thead>\n",
       "  <tbody>\n",
       "    <tr>\n",
       "      <th>0</th>\n",
       "      <td>53</td>\n",
       "      <td>54</td>\n",
       "      <td>6</td>\n",
       "      <td>5</td>\n",
       "      <td>48</td>\n",
       "      <td>49</td>\n",
       "      <td>16</td>\n",
       "      <td>Test/00000.png</td>\n",
       "    </tr>\n",
       "    <tr>\n",
       "      <th>1</th>\n",
       "      <td>42</td>\n",
       "      <td>45</td>\n",
       "      <td>5</td>\n",
       "      <td>5</td>\n",
       "      <td>36</td>\n",
       "      <td>40</td>\n",
       "      <td>1</td>\n",
       "      <td>Test/00001.png</td>\n",
       "    </tr>\n",
       "    <tr>\n",
       "      <th>2</th>\n",
       "      <td>48</td>\n",
       "      <td>52</td>\n",
       "      <td>6</td>\n",
       "      <td>6</td>\n",
       "      <td>43</td>\n",
       "      <td>47</td>\n",
       "      <td>38</td>\n",
       "      <td>Test/00002.png</td>\n",
       "    </tr>\n",
       "    <tr>\n",
       "      <th>3</th>\n",
       "      <td>27</td>\n",
       "      <td>29</td>\n",
       "      <td>5</td>\n",
       "      <td>5</td>\n",
       "      <td>22</td>\n",
       "      <td>24</td>\n",
       "      <td>33</td>\n",
       "      <td>Test/00003.png</td>\n",
       "    </tr>\n",
       "    <tr>\n",
       "      <th>4</th>\n",
       "      <td>60</td>\n",
       "      <td>57</td>\n",
       "      <td>5</td>\n",
       "      <td>5</td>\n",
       "      <td>55</td>\n",
       "      <td>52</td>\n",
       "      <td>11</td>\n",
       "      <td>Test/00004.png</td>\n",
       "    </tr>\n",
       "  </tbody>\n",
       "</table>\n",
       "</div>"
      ],
      "text/plain": [
       "   Width  Height  Roi.X1  Roi.Y1  Roi.X2  Roi.Y2  ClassId            Path\n",
       "0     53      54       6       5      48      49       16  Test/00000.png\n",
       "1     42      45       5       5      36      40        1  Test/00001.png\n",
       "2     48      52       6       6      43      47       38  Test/00002.png\n",
       "3     27      29       5       5      22      24       33  Test/00003.png\n",
       "4     60      57       5       5      55      52       11  Test/00004.png"
      ]
     },
     "execution_count": 5,
     "metadata": {},
     "output_type": "execute_result"
    }
   ],
   "source": [
    "df = pd.read_csv(\"./data/archive/Test.csv\")\n",
    "df.head()\n"
   ]
  },
  {
   "cell_type": "code",
   "execution_count": 6,
   "id": "located-booth",
   "metadata": {},
   "outputs": [],
   "source": [
    "from sklearn.metrics import accuracy_score"
   ]
  },
  {
   "cell_type": "code",
   "execution_count": 7,
   "id": "necessary-fraction",
   "metadata": {},
   "outputs": [],
   "source": [
    "# path = df['Path'].values\n",
    "input_path = \"./data/archive/\""
   ]
  },
  {
   "cell_type": "code",
   "execution_count": 5,
   "id": "looking-frame",
   "metadata": {},
   "outputs": [],
   "source": [
    "def checking_performance(df, model, input_path, model_no):\n",
    "    labels = df['ClassId'].values\n",
    "    path = df['Path'].values\n",
    "    final_res = []\n",
    "    count = 0\n",
    "    correct = 0\n",
    "    for img in input_path + path:\n",
    "#         if count == 1000:\n",
    "#             break\n",
    "    #     img1 = tf.keras.preprocessing.image.load_img(img, target_size=(32, 32))\n",
    "    #     test_img = tf.keras.preprocessing.image.img_to_array(img1, data_format=\"channels_last\")/255\n",
    "    #     test_img = np.expand_dims(test_img, axis=0)\n",
    "        img1 = cv2.imread(img)\n",
    "        temp = Image.fromarray(img1, 'RGB')\n",
    "        temp = temp.resize((32, 32))\n",
    "        test_img = np.array(temp) / 255\n",
    "        test_img = np.expand_dims(test_img, axis=0)\n",
    "        scores = model.predict(test_img)\n",
    "        preds = np.argmax(scores, axis = 1)\n",
    "        final_res.append(preds)\n",
    "        if preds == labels[count]:\n",
    "            correct += 1\n",
    "        count += 1\n",
    "\n",
    "    print(f\"Model {model_no} : Total Count : {count}\\tTotal correct : {correct}\", end=\"\\t\")\n",
    "    print(accuracy_score(labels[:count], final_res, normalize = True), end=\"\\n\")"
   ]
  },
  {
   "cell_type": "code",
   "execution_count": 6,
   "id": "aware-syndicate",
   "metadata": {},
   "outputs": [],
   "source": [
    "models = [tf.keras.models.load_model('./model_best_2.h5'),\n",
    "          tf.keras.models.load_model('./model.h5'),\n",
    "         tf.keras.models.load_model('./model_best_3.h5')]"
   ]
  },
  {
   "cell_type": "code",
   "execution_count": 7,
   "id": "stupid-federation",
   "metadata": {},
   "outputs": [
    {
     "name": "stdout",
     "output_type": "stream",
     "text": [
      "Model 1 : Total Count : 12630\tTotal correct : 11933\t0.9448139350752177\n",
      "Model 2 : Total Count : 12630\tTotal correct : 11607\t0.9190023752969121\n",
      "Model 3 : Total Count : 12630\tTotal correct : 11859\t0.9389548693586698\n"
     ]
    }
   ],
   "source": [
    "model_no = 1\n",
    "for model in models:\n",
    "    checking_performance(df, model, input_path, model_no)\n",
    "    model_no += 1"
   ]
  },
  {
   "cell_type": "code",
   "execution_count": 8,
   "id": "irish-presence",
   "metadata": {},
   "outputs": [],
   "source": [
    "# Dictionary to map classes.\n",
    "classes = { \n",
    "    0:'Speed limit (20km/h)',\n",
    "    1:'Speed limit (30km/h)', \n",
    "    2:'Speed limit (50km/h)', \n",
    "    3:'Speed limit (60km/h)', \n",
    "    4:'Speed limit (70km/h)', \n",
    "    5:'Speed limit (80km/h)', \n",
    "    6:'End of speed limit (80km/h)', \n",
    "    7:'Speed limit (100km/h)', \n",
    "    8:'Speed limit (120km/h)', \n",
    "    9:'No passing', \n",
    "    10:'No passing veh over 3.5 tons', \n",
    "    11:'Right-of-way at intersection', \n",
    "    12:'Priority road', \n",
    "    13:'Yield', \n",
    "    14:'Stop', \n",
    "    15:'No vehicles', \n",
    "    16:'Veh > 3.5 tons prohibited', \n",
    "    17:'No entry', \n",
    "    18:'General caution', \n",
    "    19:'Dangerous curve left', \n",
    "    20:'Dangerous curve right', \n",
    "    21:'Double curve', \n",
    "    22:'Bumpy road', \n",
    "    23:'Slippery road', \n",
    "    24:'Road narrows on the right', \n",
    "    25:'Road work', \n",
    "    26:'Traffic signals', \n",
    "    27:'Pedestrians', \n",
    "    28:'Children crossing', \n",
    "    29:'Bicycles crossing', \n",
    "    30:'Beware of ice/snow',\n",
    "    31:'Wild animals crossing', \n",
    "    32:'End speed + passing limits', \n",
    "    33:'Turn right ahead', \n",
    "    34:'Turn left ahead', \n",
    "    35:'Ahead only', \n",
    "    36:'Go straight or right', \n",
    "    37:'Go straight or left', \n",
    "    38:'Keep right', \n",
    "    39:'Keep left', \n",
    "    40:'Roundabout mandatory', \n",
    "    41:'End of no passing', \n",
    "    42:'End no passing veh > 3.5 tons'\n",
    "          }"
   ]
  },
  {
   "cell_type": "code",
   "execution_count": 9,
   "id": "subjective-professional",
   "metadata": {},
   "outputs": [],
   "source": [
    "def get_output(img):\n",
    "#     img1 = tf.keras.preprocessing.image.load_img(img, target_size=(32, 32), interpolation='nearest')\n",
    "#     test_img = tf.keras.preprocessing.image.img_to_array(img1, data_format=\"channels_last\")/255\n",
    "#     test_img = np.expand_dims(test_img, axis=0)\n",
    "    img1 = cv2.imread(img)\n",
    "    temp = Image.fromarray(img1, 'RGB')\n",
    "    temp = temp.resize((32, 32))\n",
    "    test_img = np.array(temp) / 255\n",
    "    test_img = np.expand_dims(test_img, axis=0)\n",
    "    scores = model.predict(test_img)\n",
    "    prob = np.max(scores, axis = 1)\n",
    "    preds = np.argmax(scores, axis = 1)\n",
    "    print(f\"{prob[0] * 100}% probability of {classes[preds[0]]}\")\n",
    "    return prob[0] * 100, classes[preds[0]]"
   ]
  },
  {
   "cell_type": "code",
   "execution_count": 10,
   "id": "current-southeast",
   "metadata": {},
   "outputs": [
    {
     "name": "stdout",
     "output_type": "stream",
     "text": [
      "99.99961853027344% probability of Veh > 3.5 tons prohibited\n"
     ]
    },
    {
     "data": {
      "text/plain": [
       "Text(0.5, 1.0, 'Veh > 3.5 tons prohibited - 99.99961853027344')"
      ]
     },
     "execution_count": 10,
     "metadata": {},
     "output_type": "execute_result"
    },
    {
     "data": {
      "image/png": "[encoded data removed]",
      "text/plain": [
       "<Figure size 432x288 with 1 Axes>"
      ]
     },
     "metadata": {
      "needs_background": "light"
     },
     "output_type": "display_data"
    }
   ],
   "source": [
    "img = f\"./data/archive/test/0000{np.random.randint(0, 10)}.png\"\n",
    "prob, pred = get_output(img)\n",
    "img = cv2.imread(img)\n",
    "plt.imshow(img)\n",
    "plt.title(f\"{pred} - {prob}\")"
   ]
  },
  {
   "cell_type": "code",
   "execution_count": null,
   "id": "auburn-floating",
   "metadata": {},
   "outputs": [],
   "source": []
  },
  {
   "cell_type": "code",
   "execution_count": null,
   "id": "compact-client",
   "metadata": {},
   "outputs": [],
   "source": []
  }
 ],
 "metadata": {
  "kernelspec": {
   "display_name": "Python 3",
   "language": "python",
   "name": "python3"
  },
  "language_info": {
   "codemirror_mode": {
    "name": "ipython",
    "version": 3
   },
   "file_extension": ".py",
   "mimetype": "text/x-python",
   "name": "python",
   "nbconvert_exporter": "python",
   "pygments_lexer": "ipython3",
   "version": "3.8.5"
  }
 },
 "nbformat": 4,
 "nbformat_minor": 5
}
